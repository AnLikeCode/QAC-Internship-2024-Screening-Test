{
 "cells": [
  {
   "cell_type": "markdown",
   "metadata": {},
   "source": [
    "# **Task 1 - for applicants of Track 1: Quantum Software**\n",
    "#### Hướng dẫn đọc:  \n",
    "- **Phần đầu**: Giải quyết TASK  \n",
    "  1. Lời diễn giải và thể hiện ý tưởng giải quyết bài toán  \n",
    "  2. Rồi sau đó là đoạn Code để giải quyết bài toán  \n",
    "  3. Dưới cùng (Trên phần Discussion) là Output của bài toán    \n",
    "- **Phần giữa**: Discussion  \n",
    "1. Discuss the method used for generating random numbers and its impact on the results. Can we generate the same random values multiple times? If so, please add that implementation.\n",
    "2. Analyze the average number of trials needed to solve Task 1.a and 1.b. Try to find the optimal solution with the smallest number of steps required. Discuss the complexities involved in the operations.\n",
    "3. Which problems in Task 1 can be improved using quantum computing? Why?\n",
    "- **Phần sau**: Tài liệu tham khảo\n",
    "<hr>\n"
   ]
  },
  {
   "cell_type": "markdown",
   "metadata": {},
   "source": [
    "## **<center>GIẢI QUYẾT TASK</center>**"
   ]
  },
  {
   "cell_type": "markdown",
   "metadata": {},
   "source": [
    "#### Trong phần này, để giải quyết TASK_1, em trình bày với ý tưởng duyệt qua tất cả các phần tử để tìm k và danh sách các phần tử nhỏ hơn k"
   ]
  },
  {
   "cell_type": "markdown",
   "metadata": {},
   "source": [
    "Hàm generate_random_list($n$ : int) tạo list gồm $2n$ phần tử là các số nguyên ngẫu nhiên duy nhất  \n",
    "- Mỗi phần tử của List có giá trị lớn nhất là: $2^n - 1$ (Do có $n$ bit)\n",
    "- Hàm trả về một List gồm $2n$ phần tử sô nguyên ngẫu nhiên duy nhất và một số nguyên $k$ ngẫu nhiên"
   ]
  },
  {
   "cell_type": "code",
   "execution_count": 1,
   "metadata": {},
   "outputs": [],
   "source": [
    "import random\n",
    "\n",
    "#FUNCTION_1\n",
    "def generate_random_list(n):\n",
    "    list_random = random.sample(range(0,2**n), 2*n)\n",
    "    k_random = random.randint(0,2**n - 1)\n",
    "    return list_random, k_random"
   ]
  },
  {
   "cell_type": "markdown",
   "metadata": {},
   "source": [
    "Hàm search_k(k: int, list_n: list[int]) kiểm tra $k$ có tồn tại trong list hay không  \n",
    "- Duyệt qua tất cả các phần tử của List $2n$ trên\n",
    "- Nếu có, return $True$ và số bước mà chương trình thực hiện để có kết quả đó $(step)$  \n",
    "- Nếu không có, return $False$ và số bước mà chương trình thực hiện để có kết quả đó $(step)$  "
   ]
  },
  {
   "cell_type": "code",
   "execution_count": 4,
   "metadata": {},
   "outputs": [],
   "source": [
    "#FUNCTION_2\n",
    "def search_k(k_random, list_random):\n",
    "    step = 0\n",
    "    for number in list_random:\n",
    "        step+=1\n",
    "        if number == k_random: \n",
    "            return True, step\n",
    "    return False, step"
   ]
  },
  {
   "cell_type": "markdown",
   "metadata": {},
   "source": [
    "Hàm less_than_k(k: int, list_n: list[int]):\n",
    "- Duyệt qua tất cả các phần tử của List $2n$ trên\n",
    "- So sánh phàn tử đó với $k$, nếu nhỏ hơn thì add phần tử đó vào List (list_less_than_k)\n",
    "- Return về List các phần tử nhỏ hơn $k$ trong list $2n$ trên và số bước mà chương trình thực hiện để có kết quả $(step)$"
   ]
  },
  {
   "cell_type": "code",
   "execution_count": 3,
   "metadata": {},
   "outputs": [],
   "source": [
    "#FUNCTION_3\n",
    "def less_than_k(kEx, listEx):\n",
    "    step = 0\n",
    "    list_less_than_k = []\n",
    "    for i in range(0,len(listEx),1):\n",
    "        step += 1\n",
    "        if listEx[i] < kEx:\n",
    "            list_less_than_k.append(listEx[i])\n",
    "        else:\n",
    "            pass\n",
    "    return list_less_than_k, step"
   ]
  },
  {
   "cell_type": "markdown",
   "metadata": {},
   "source": [
    "**Hiển thị kết quả**"
   ]
  },
  {
   "cell_type": "code",
   "execution_count": 5,
   "metadata": {},
   "outputs": [
    {
     "name": "stdout",
     "output_type": "stream",
     "text": [
      "6 [10, 8, 11, 15, 5, 12, 3, 6]\n",
      "(True, 8)\n",
      "([5, 3], 8)\n"
     ]
    }
   ],
   "source": [
    "n = 4 #Truyền giá trị n tại đây.\n",
    "list_n, k = generate_random_list(n)\n",
    "\n",
    "print(k, list_n) \n",
    "print(search_k(k, list_n))\n",
    "print(less_than_k(k, list_n))"
   ]
  },
  {
   "cell_type": "markdown",
   "metadata": {},
   "source": [
    "<hr>"
   ]
  },
  {
   "cell_type": "markdown",
   "metadata": {},
   "source": [
    "## **<center>Discussion</center>**"
   ]
  },
  {
   "cell_type": "markdown",
   "metadata": {},
   "source": [
    "#### **1. Discuss the method used for generating random numbers and its impact on the results. Can we generate the same random values multiple times? If so, please add that implementation.** ####\n",
    "     \n",
    "**1.1 Phương pháp được sử dụng để tạo số ngẫu nhiên: (Thật ra là Giả Ngẫu Nhiên)**  \n",
    "  \n",
    "Bên trong hàm *generate_random_list(n)* sử dụng 2 hàm được xây dựng sẵn của thư viện Random để tạo số ngẫu nhiên:\n",
    "- Hàm *random.sample(sequence, k)*:\n",
    "    -> Hàm này tạo một List gồm $k$ phần tử, mà mỗi phần tử là số nguyên dương được chọn ngẫu nhiên duy nhất trong $sequence$ (*Mở rộng: Nếu sequence không phải là list mà là hàm range, tuple, set. Thì chương trình sẽ chuyển nó thành một list, rồi chọn các phần tử từ list đó*). Ngẫu nhiên duy nhất có nghĩa là khi số này được chọn rồi thì nó sẽ không có khả năng xuất hiện trong lần chọn tiếp theo.\n",
    "  \n",
    "- Hàm *random.randint(a, b)*\n",
    "    - Hàm này tạo ra một số ngẫu nhiên nằm trong khoảng $a, b$ và bao gồm cả $a, b$\n",
    "  \n",
    "**1.2 Tác động của phương pháp đã sử dụng lên kết quả:** \n",
    "- *Random.sample(sequence, k)* và *random.randint(a, b)* chọn ra các con số trong khoảng cho trước với **xác xuất là như nhau**. Do đó kết quả của các hàm *generate_random_list(n)*, *search_k(k_temp, list_n_temp)*, *less_than_k(kEx, listEx)* không bị lệch về một giá trị cụ thể nào.  \n",
    "  \n",
    "- *Random.sample(sequence, k)* tạo ra một List gồm các **phần tử ngẫu nhiên duy nhất**, có nghĩa là không chứa bất kì số nào bị trùng lặp. Điều này tác động đến kết quả của hàm *search_k(k_temp, list_n_temp)*, nếu tồn tại $k$ trong List thì $k$ chỉ xuất hiện tối đa một lần và hàm *search_k()* sẽ dùng lại khi tìm thấy $k$ và không cần tiếp tục tìm kiếm nữa. \n",
    "   \n",
    "- Tác động trực tiếp đến kích thước của List được trả về bởi hàm *less_than_k(kEx, listEx)*. Do kích thước của List được trả về phụ thuộc vào giá trị của $k$ và List $2n$ phần tử ban đầu. Do đó **không thể biết chính xác kích thước** của List gồm các phần tử nhỏ hơn $k$.  \n",
    "    - Ex: Nếu $k$ có giá trị nhỏ, thì List các phần tử nhỏ hơn $k$ có kích thước bé hoặc có thể rỗng. Ngược lại, nếu $k$ có giá trị lớn thì List các phần tử nhỏ hơn $k$ có kích thước lớn và có thể bằng với List 2n ban đầu.  \n",
    "  \n",
    "- Tác động đến **số bước (Step)** để trả về kết quả của hàm *search_k(k_temp, list_n_temp)*. Do hàm *search_k()* sử dụng vòng lặp For, duyệt qua tất cả các phần tử của List 2n ban đầu để tìm $k$, do đó trong trường hợp xấu nhất là $k$ nằm ở cuối danh sách hoặc $k$ không tồn tại thì vòng lặp for phải duyệt qua $2n$ lần.  \n",
    "  \n",
    "**1.3 Chúng ta hoàn toàn có thể tạo ra các giá trị ngẫu nhiên giống nhau nhiều lần:**\n",
    "- Bằng cách thêm *random.seed(Giá_trị_seed)* vào *hàm generate_random_list(n)*\n",
    "  \n",
    "- Giải thích thêm về seed: Seed có thể xem là một Input đầu vào của một chuỗi các thuật toán để tạo ra Output là một số ngẫu nhiên. Do đó với cùng một seed ta có thể tạo ra một chuỗi các số \"ngẫu nhiên\" giống nhau   \n",
    "  \n",
    "<center>Theo dõi code bên dưới và xem Output tương ứng</center>\n"
   ]
  },
  {
   "cell_type": "code",
   "execution_count": 98,
   "metadata": {},
   "outputs": [],
   "source": [
    "import random\n",
    "def generate_random_list(n):\n",
    "    random.seed(3) #Ở đây cho giá trị của seed = 3\n",
    "    list_random = random.sample(range(0,2**n), 2*n)\n",
    "    k_random = random.randint(0,2**n - 1)\n",
    "    return list_random, k_random\n",
    "print(generate_random_list(3))"
   ]
  },
  {
   "cell_type": "markdown",
   "metadata": {},
   "source": [
    "#### **2. Analyze the average number of trials needed to solve Task 1.a and 1.b. Try to find the optimal solution with the smallest number of steps required. Discuss the complexities involved in the operations.** #### \n",
    "  \n",
    "**2.1 Phân tích số bước trung bình mà chương trình cần thực hiện để giải 1.a và 1.b và độ phức tạp của thuật toán:**  \n",
    "  \n",
    "- Vấn đề 1.a: Hàm *search_k(k_temp, list_n_temp)*\n",
    "        \n",
    "    - Trường hợp $k$ chắc chắn có trong List: Số bước trung bình: &asymp; $n$ (cụ thể là $n$ + $1/2$) \n",
    "      \n",
    "    - Trường hợp $k$ chắc chắn không có trong List: Số bước trung bình luôn là: $2n$   \n",
    "      \n",
    "        ->Vì vậy, số bước trung bình mà chương trình cần thực hiện để trả về kết quả là: &asymp; $1.5n$\n",
    "          \n",
    "    - Hàm trên thực hiện tìm kiếm tuyến tính (Duyệt qua từng phần tử) có Độ phức tạp thuật toán là O<sub>(n)</sub>  \n",
    "  \n",
    "- Vấn đề 1.b: Hàm *less_than_k(kEx, listEx)*\n",
    "        \n",
    "    - Hàm này luôn luôn duyệt qua tất cả phần tử của List  \n",
    "        \n",
    "        -> Vậy nên số bước trung bình mà chương trình cần thực hiện để trả về kết quả luôn là $2n$ bước\n",
    "        \n",
    "    - Hàm trên cũng sử dụng thuật toán *tìm kiếm tuyến tính*. Vậy nên độ phức tạp thuật toán trong trường hợp này luôn là $0$<sun>(n)</sub>, với $n$ là số phần tử của List (Cụ thể là $2n$). \n",
    "  \n",
    "**2.2 Đề xuất sử dụng cấu trúc dữ liêu Hash Table để tối ưu với số bước thực hiện là nhỏ nhất (Đối với LIST chưa được sắp xếp)**  \n",
    "  \n",
    "Sau khi xây dựng bảng băm\n",
    "  \n",
    "- So với FUNCTION_2 ở trên, chúng ta chỉ mất 1 bước (step) để chương trình trả về kết quả\n",
    "  \n",
    "- So với FUCTION_3 ở trên, Từ Input đầu vào là *LIST chưa sắp xếp*, Output là LIST các phần tử nhỏ hơn $k$. Tuy nhiên Step vẫn còn rất lớn\n",
    "\n",
    "*<center>Theo dõi code bên dưới</center>*"
   ]
  },
  {
   "cell_type": "code",
   "execution_count": 8,
   "metadata": {},
   "outputs": [
    {
     "name": "stdout",
     "output_type": "stream",
     "text": [
      "[25, 12, 3, 23, 31, 13, 19, 5, 1, 29] 6\n",
      "False 0\n",
      "[3, 5, 1] 10\n"
     ]
    }
   ],
   "source": [
    "import random\n",
    "\n",
    "# FUNCTION_1\n",
    "def generate_random_list(n):\n",
    "    list_random = random.sample(range(0, 2**n), 2 * n)\n",
    "    k_random = random.randint(0, 2**n - 1)\n",
    "    return list_random, k_random\n",
    "\n",
    "# FUNCTION_2: Tạo bảng băm\n",
    "def hash_table(list_m):\n",
    "    hash_table = {value: index for index, value in enumerate(list_m)}\n",
    "    return hash_table\n",
    "\n",
    "# FUNCTION_3:\n",
    "def hash_search(list_m, k_m):\n",
    "    step = 0\n",
    "    hash_tab = hash_table(list_m)\n",
    "    if k_m in hash_tab:\n",
    "        step += 1\n",
    "        return True, step\n",
    "    return False, step\n",
    "\n",
    "# FUNCTION_4:\n",
    "def list_less_than_k_hash(list_m, k_n):\n",
    "    step = 0\n",
    "    hash_tab = hash_table(list_m)\n",
    "    less_than_k = []\n",
    "    for val in hash_tab:\n",
    "        step += 1\n",
    "        if val < k_n:\n",
    "            less_than_k.append(val) \n",
    "    return less_than_k, step\n",
    "\n",
    "n = 5 #Nhập giá trị n tại đây!\n",
    "list_n, k = generate_random_list(n)\n",
    "check_k, sobuoc = hash_search(list_n, k)\n",
    "list_less, sobuoc_less = list_less_than_k_hash(list_n, k)\n",
    "\n",
    "# Kết quả\n",
    "print(list_n, k)\n",
    "print(check_k, sobuoc)\n",
    "print(list_less, sobuoc_less)"
   ]
  },
  {
   "cell_type": "markdown",
   "metadata": {},
   "source": [
    "**2.3 Bàn về độ phức tạp của thuật toán khi sử dụng Hash Table và Đề xuất giải pháp tối ưu độ phức tạp của thuật toán:**\n",
    "\n",
    "FUNCTION_1: Độ phức tạp: O<sub>(n)</sub>  \n",
    "  \n",
    "FUNCTION_2: Độ phức tạp: O<sub>(n)</sub> (Tạo bảng băm)\n",
    "      \n",
    "FUNCTION_3: Độ phức tạp: O<sub>(1)</sub>\n",
    "  \n",
    "FUNCTION_4: Độ phức tạp: O<sub>(n)</sub>\n",
    "\n",
    "- Duyệt qua mỗi khóa (val) trong hash_table tìm phần tử nhỏ hơn $k$: O<sub>(n)</sub>\n",
    "\n",
    "**Kết luận**\n",
    "  \n",
    "- Độ phức tạp của chương trình còn quá lớn\n",
    "  \n",
    "- Với riêng FUNCTION_4 thì số bước thực hiện còn quá nhiều và độ phức tạp lớn\n",
    "\n",
    "**Tối ưu chương trình với thuật toán tìm kiếm nhị phân**\n",
    "\n",
    "Kết quả nhận được:\n",
    "  \n",
    "- Giảm độ phức tạp thuật toán của việc tìm số $k$ theo cấp số nhân, cụ thể là từ $O_(n)$ xuống còn $O$<sub>(logn)</sub>\n",
    "  \n",
    "- Giảm số bước cần thực hiện để tìm các phần tử nhỏ hơn $k$ trong list ngẫu nhiên \n",
    "  \n",
    "    - Khi $k$ tồn tại trong list: Từ số bước cần thiết luôn là $2n$ giảm còn số bước luôn luôn là $1$\n",
    "    \n",
    "    - Khi $k$ không tồn tại: Thay vì số bước cần thực hiện luôn là $2n$ thì giảm xuống còn số bước khá nhỏ"
   ]
  },
  {
   "cell_type": "markdown",
   "metadata": {},
   "source": [
    "Thực hiện:\n",
    "  \n",
    "1. Đầu tiên là sắp xếp lại List theo thứ tự tăng dần, sử dụng hàm *sorted()*, có độ phức tạp là $O_(nlogn)$\n",
    "  \n",
    "2. Sau đó sử dụng thuật toán Binary Rearch để tìm kiếm xem $k$ có trong List hay không, có độ phức tạp là $O_(logn)$\n",
    "  \n",
    "3. Sử dụng kết quả của hàm trên để check xem $k$ có tồn tại trong list hay không:\n",
    "  \n",
    "    - Nếu có, thì list phần tử nhỏ hơn $k$ sẽ là phần từ đầu tiên cho đến vị trí phần tử $k - 1$ của list đã sắp xếp\n",
    "      \n",
    "    - Nếu không có tiếp tục dùng thuật toán Binary Search với ý tưởng:\n",
    "      \n",
    "        - Đặt $left$ = 0, $right$ = vị trí của phần tử cuối cùng của list\n",
    "          \n",
    "        - Chia đôi phạm vi tìm kiếm, đặt mid là vị trí sau khi chia đôi ($Left$ + $right$ lấy phần nguyên)\n",
    "          \n",
    "        - So sánh giá trị tại mid với giá trị $k$. $mid$ bé hơn $k$ thì thêm tất cả phần từ từ left đến mid vào list các phần tử nhỏ hơn $k$\n",
    "          \n",
    "        - Nếu $mid$ lớn hơn thì dời khoảng tìm kiếm với $right = mid - 1$. Rồi cập nhật lại giá trị $mid$. Rồi tiếp tục so sánh\n",
    "          \n",
    "        - Vòng lặp dừng lại khi phần tử tại $left > k$, có nghĩa là không còn cắt list được nữa\n",
    "          \n",
    "*<center>Theo dõi code bên dưới</center>*"
   ]
  },
  {
   "cell_type": "code",
   "execution_count": 100,
   "metadata": {},
   "outputs": [
    {
     "name": "stdout",
     "output_type": "stream",
     "text": [
      "(False, 2, 6)\n"
     ]
    }
   ],
   "source": [
    "#Hàm tìm kiếm k sử dụng thuật toán tìm kiếm nhị phân\n",
    "def binary_rearch(list_m, k_m):\n",
    "    left = 0\n",
    "    right = len(list_m) - 1\n",
    "    step = 0\n",
    "    while left <= right:\n",
    "        mid = (left + right) // 2\n",
    "        step += 1\n",
    "        #Xét tại 3 vị trí trong List để tìm k\n",
    "        if list_m[mid] == k_m:\n",
    "            return True, step, mid\n",
    "        elif list_m[left] == k_m:\n",
    "            return True, step, left\n",
    "        elif list_m[right] == k_m:\n",
    "            return True, step, right\n",
    "        #Giảm khoảng cần tìm\n",
    "        elif list_m[mid] < k_m:\n",
    "            left = mid + 1\n",
    "            right -= 1\n",
    "        else:\n",
    "            right = mid - 1\n",
    "            left += 1\n",
    "    return False, step, mid\n",
    "\n",
    "# Sắp xếp lại List theo thứ tự tăng dần\n",
    "list_new = sorted(list_n)\n",
    "# Hiển thị kết quả\n",
    "print(binary_rearch(list_new, k))"
   ]
  },
  {
   "cell_type": "code",
   "execution_count": 101,
   "metadata": {},
   "outputs": [
    {
     "name": "stdout",
     "output_type": "stream",
     "text": [
      "([3, 5, 17, 20, 22, 23], 3)\n"
     ]
    }
   ],
   "source": [
    "def list_less_than_k(list_sorted, k_n):\n",
    "    # Khởi tạo List để chứa các phần tử nhỏ hơn k\n",
    "    less_than_k = []\n",
    "    step = 0\n",
    "    # Trường hợp k tồn tại trong List\n",
    "    if check_k:\n",
    "        less_than_k = list_sorted[:position]\n",
    "        step += 1\n",
    "        return less_than_k, step\n",
    "    # Trường hợp k không tồn tại trong List\n",
    "    else:\n",
    "        if k_n > list_sorted[len(list_sorted) - 1]: # Xem k có lớn hơn phần tử lớn nhất trong List không\n",
    "            step += 1\n",
    "            less_than_k = list_sorted\n",
    "        else:\n",
    "            left = 0\n",
    "            right = len(list_sorted) - 1\n",
    "            while list_sorted[left] < k_n:\n",
    "                step += 1\n",
    "                mid = (left + right) // 2\n",
    "                if list_sorted[mid] < k_n:\n",
    "                    less_than_k += list_sorted[left:mid + 1]\n",
    "                    left = mid + 1\n",
    "                elif list_sorted[mid] > k_n:\n",
    "                    right = mid - 1\n",
    "                    if right < 0: break\n",
    "    return less_than_k, step\n",
    "\n",
    "check_k, sobuoc, position  = binary_rearch(list_new, k)\n",
    "# Hiển thị kết quả\n",
    "print(list_less_than_k(list_new, k))    "
   ]
  },
  {
   "cell_type": "markdown",
   "metadata": {},
   "source": [
    "#### **3. Which problems in Task 1 can be improved using quantum computing? Why?**  ####\n",
    "Có một số vấn đề ở TASK_1 mà máy tính lượng tử có cải thiện hiểu quả và chỉ máy tính lượng tử có thể làm được nhưng máy tính cổ điển thì không:\n",
    "\n",
    "- Tạo ra một số thật **sự ngẫu nhiên**!  \n",
    "    - Bản chất của máy tính cổ điển là xác định. Nó nhận vào các input, qua một số các thuật toán tạo số ngẫu nhiên, rồi cho ra các con số trông có vẻ ngẫu nhiên nhưng thực chất chúng không ngẫu nhiên. Các số đó được gọi là \"giả ngẫu nhiên\". Vậy nên nếu chúng ta biết Seed ban đầu và biết được thuật toán tạo số ngẫu nhiên hoạt động, chúng ta hoàn toàn có thể dự đoán trước được chúng.  \n",
    "      \n",
    "    - Máy tính lượng tử hoạt động theo xác suất. Bạn có một Qubit, bạn đo nó, bạn sẽ chẳng bao giờ đoán trước được nó sẽ trả về cho bạn giá trị gì. Điều này được ứng dụng để tạo ra một số thật sự ngẫu nhiên.\n",
    "\n",
    "- Cải thiện hiệu suất, *giảm thời gian thực thi* tìm kiếm rất đáng kể nhờ vào các thuật toán lượng tử như Thuật toán Grover và khả năng xử lý đồng thời nhiều Input cùng một lúc."
   ]
  },
  {
   "cell_type": "markdown",
   "metadata": {},
   "source": [
    "<hr>"
   ]
  },
  {
   "cell_type": "markdown",
   "metadata": {},
   "source": [
    "## **<center>Tài liệu tham khảo</center>**"
   ]
  },
  {
   "cell_type": "markdown",
   "metadata": {},
   "source": [
    "[Tài liệu tham khảo về Python (Syntax, Loop, If..Else, Data Type, Function, Module,...)](https://www.w3schools.com/python/default.asp)  \n",
    "  \n",
    "[Tài liệu tham khảo về thuật toán Binary Search](https://www.khanacademy.org/computing/computer-science/algorithms/binary-search/a/binary-search)\n",
    "\n",
    "[Tài liệu tham khảo về Hash Table](https://www.youtube.com/watch?v=uKIFNzqX2a8&t=669s)"
   ]
  },
  {
   "cell_type": "markdown",
   "metadata": {},
   "source": [
    "**<center>-----Hết-----</center>**"
   ]
  }
 ],
 "metadata": {
  "kernelspec": {
   "display_name": ".venv",
   "language": "python",
   "name": "python3"
  },
  "language_info": {
   "codemirror_mode": {
    "name": "ipython",
    "version": 3
   },
   "file_extension": ".py",
   "mimetype": "text/x-python",
   "name": "python",
   "nbconvert_exporter": "python",
   "pygments_lexer": "ipython3",
   "version": "3.12.3"
  }
 },
 "nbformat": 4,
 "nbformat_minor": 2
}
