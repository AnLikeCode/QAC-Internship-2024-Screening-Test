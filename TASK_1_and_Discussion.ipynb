{
 "cells": [
  {
   "cell_type": "markdown",
   "metadata": {},
   "source": [
    "# **Task 1 - for applicants of Track 1: Quantum Software**\n",
    "#### Hướng dẫn đọc:  \n",
    "- **Phần đầu**: Giải quyết TASK  \n",
    "\n",
    "  1. Hàm Tạo Danh Sách Ngẫu Nhiên \n",
    "\n",
    "  2. Hàm Tìm Kiếm $k$  \n",
    "\n",
    "  3. Hàm Tìm Kiếm Các Phần Tử Nhỏ Hơn $k$ \n",
    "    \n",
    "- **Phần giữa**: Discussion  \n",
    "\n",
    "  1. Discuss the method used for generating random numbers and its impact on the results. Can we generate the same random values multiple times? If so, please add that implementation.\n",
    "\n",
    "  2. Analyze the average number of trials needed to solve Task 1.a and 1.b. Try to find the optimal solution with the smallest number of steps required. Discuss the complexities involved in the operations.\n",
    "\n",
    "  3. Which problems in Task 1 can be improved using quantum computing? Why?\n",
    "\n",
    "- **Phần sau**: Tài liệu tham khảo\n",
    "<hr>\n"
   ]
  },
  {
   "cell_type": "markdown",
   "metadata": {},
   "source": [
    "## **<center>GIẢI QUYẾT TASK</center>**"
   ]
  },
  {
   "cell_type": "markdown",
   "metadata": {},
   "source": [
    "#### Trong phần này, để giải quyết TASK_1, em trình bày nhiều ý tưởng để có thể tìm câu trả lời cho bài toán, bên dưới là phần trình bày!"
   ]
  },
  {
   "cell_type": "markdown",
   "metadata": {},
   "source": [
    "#### 1. Hàm Tạo Danh Sách Ngẫu Nhiên:\n",
    "Hàm generate_random_list($n$ : int) tạo list gồm $2n$ phần tử là các số nguyên ngẫu nhiên duy nhất  \n",
    "- Mỗi phần tử của List có giá trị lớn nhất là: $2^n - 1$ (Do có $n$ bit)\n",
    "- Hàm trả về một List gồm $2n$ phần tử sô nguyên ngẫu nhiên duy nhất và một số nguyên $k$ ngẫu nhiên"
   ]
  },
  {
   "cell_type": "code",
   "execution_count": 32,
   "metadata": {},
   "outputs": [
    {
     "name": "stdout",
     "output_type": "stream",
     "text": [
      "15 [2, 9, 0, 7, 4, 8, 3, 14]\n"
     ]
    }
   ],
   "source": [
    "import random\n",
    "\n",
    "#FUNCTION_1\n",
    "def generate_random_list(n):\n",
    "    list_random = random.sample(range(0,2**n), 2*n)\n",
    "    k_random = random.randint(0,2**n - 1)\n",
    "    return list_random, k_random\n",
    "\n",
    "n = 4 #Truyền giá trị n tại đây.\n",
    "list_n, k = generate_random_list(n)\n",
    "\n",
    "print(k, list_n) "
   ]
  },
  {
   "cell_type": "markdown",
   "metadata": {},
   "source": [
    "#### 2. Hàm Tìm Kiếm $k$ (Trình bày 3 ý tưởng):\n"
   ]
  },
  {
   "cell_type": "markdown",
   "metadata": {},
   "source": [
    "- 2.1 Sử dụng Tìm kiếm tuyến tính"
   ]
  },
  {
   "cell_type": "code",
   "execution_count": 33,
   "metadata": {},
   "outputs": [
    {
     "name": "stdout",
     "output_type": "stream",
     "text": [
      "(False, 8)\n"
     ]
    }
   ],
   "source": [
    "#FUNCTION_2.1\n",
    "def search_k(k_random, list_random):\n",
    "    step = 0\n",
    "    for number in list_random:\n",
    "        step+=1\n",
    "        if number == k_random: \n",
    "            return True, step\n",
    "    return False, step\n",
    "\n",
    "print(search_k(k, list_n))"
   ]
  },
  {
   "cell_type": "markdown",
   "metadata": {},
   "source": [
    "- 2.2 Sử dụng Cấu trúc dữ liệu Hash Table"
   ]
  },
  {
   "cell_type": "code",
   "execution_count": 34,
   "metadata": {},
   "outputs": [
    {
     "name": "stdout",
     "output_type": "stream",
     "text": [
      "Số bước để tạo Hash Table: 8\n",
      "(False, 1)\n"
     ]
    }
   ],
   "source": [
    "# FUNCTION_2.2.1: Tạo bảng băm\n",
    "def hash_table(list_m):\n",
    "    hash_table_ex = {value: index for index, value in enumerate(list_m)}\n",
    "    return hash_table_ex\n",
    "\n",
    "# FUNCTION_2.2.2:\n",
    "def hash_search(list_m, k_m):\n",
    "    step = 0\n",
    "    hash_tab = hash_table(list_m)\n",
    "    if k_m in hash_tab:\n",
    "        step += 1\n",
    "        return True, step\n",
    "    else: \n",
    "        step += 1\n",
    "    return False, step\n",
    "\n",
    "print(f\"Số bước để tạo Hash Table: {len(list_n)}\")\n",
    "print(hash_search(list_n, k))"
   ]
  },
  {
   "cell_type": "markdown",
   "metadata": {},
   "source": [
    "- 2.3 Sử dụng Thuật toán Binary Search"
   ]
  },
  {
   "cell_type": "code",
   "execution_count": 35,
   "metadata": {},
   "outputs": [
    {
     "name": "stdout",
     "output_type": "stream",
     "text": [
      "Số bước để Sort List: 8\n",
      "(False, 2)\n"
     ]
    }
   ],
   "source": [
    "#FUNCTION_2.3\n",
    "def binary_rearch(list_m, k_m):\n",
    "    left = 0\n",
    "    right = len(list_m) - 1\n",
    "    step = 0\n",
    "    while left <= right:\n",
    "        mid = (left + right) // 2\n",
    "        step += 1\n",
    "        #Xét tại 3 vị trí trong List để tìm k\n",
    "        if list_m[mid] == k_m:\n",
    "            return True, step, mid\n",
    "        elif list_m[left] == k_m:\n",
    "            return True, step, left\n",
    "        elif list_m[right] == k_m:\n",
    "            return True, step, right\n",
    "        #Giảm khoảng cần tìm\n",
    "        elif list_m[mid] < k_m:\n",
    "            left = mid + 1\n",
    "            right -= 1\n",
    "        else:\n",
    "            right = mid - 1\n",
    "            left += 1\n",
    "    return False, step, mid\n",
    "\n",
    "#Sắp xếp lại List tăng dần\n",
    "list_new_sorted = sorted(list_n)\n",
    "\n",
    "check_k, step_search_k, position_search_k = binary_rearch(list_new_sorted, k)\n",
    "#Lý do trả về Vị trí tìm thấy k: Được sử dụng bên dưới để tối ưu hàm tìm kiếm các phần tử nhỏ hơn k bằng thuật toán Binary Rearch\n",
    "\n",
    "print(f\"Số bước để Sort List: {len(list_n)}\")\n",
    "print(f\"({check_k}, {step_search_k})\")"
   ]
  },
  {
   "cell_type": "markdown",
   "metadata": {},
   "source": [
    "#### 3. Hàm Tìm Kiếm Các Phần Tử Nhỏ Hơn $k$ (Trình bày 3 ý tưởng):"
   ]
  },
  {
   "cell_type": "markdown",
   "metadata": {},
   "source": [
    "- 3.1 Duyệt tuyến tính"
   ]
  },
  {
   "cell_type": "code",
   "execution_count": 36,
   "metadata": {},
   "outputs": [
    {
     "name": "stdout",
     "output_type": "stream",
     "text": [
      "Số k, List Random: (15, [2, 9, 0, 7, 4, 8, 3, 14])\n",
      "([2, 9, 0, 7, 4, 8, 3, 14], 8)\n"
     ]
    }
   ],
   "source": [
    "# FUNCTION_3.1\n",
    "def less_than_k(k_point, list_random_ex):\n",
    "    step = 0\n",
    "    list_less_than_k = []\n",
    "    for i in range(0,len(list_random_ex),1):\n",
    "        step += 1\n",
    "        if list_random_ex[i] < k_point:\n",
    "            list_less_than_k.append(list_random_ex[i])\n",
    "        else:\n",
    "            pass\n",
    "    return list_less_than_k, step\n",
    "\n",
    "print(f\"Số k, List Random: ({k}, {list_n})\") \n",
    "print(less_than_k(k, list_n))"
   ]
  },
  {
   "cell_type": "markdown",
   "metadata": {},
   "source": [
    "- 3.2 Sử dụng Cấu trúc dữ liệu Hash Table"
   ]
  },
  {
   "cell_type": "code",
   "execution_count": 37,
   "metadata": {},
   "outputs": [
    {
     "name": "stdout",
     "output_type": "stream",
     "text": [
      "Số bước tạo Hask Table: 8\n",
      "Số k, List Random: (15, [2, 9, 0, 7, 4, 8, 3, 14])\n",
      "([2, 9, 0, 7, 4, 8, 3, 14], 8)\n"
     ]
    }
   ],
   "source": [
    "# FUNCTION_3.2.1: Tạo bảng băm\n",
    "def hash_table(list_m):\n",
    "    hash_table_ex = {value: index for index, value in enumerate(list_m)}\n",
    "    return hash_table_ex\n",
    "\n",
    "# FUNCTION_3.2.2:\n",
    "def list_less_than_k_hash(list_m, k_n):\n",
    "    step = 0\n",
    "    hash_tab = hash_table(list_m)\n",
    "    less_than_k = []\n",
    "    for val in hash_tab:\n",
    "        step += 1\n",
    "        if val < k_n:\n",
    "            less_than_k.append(val) \n",
    "    return less_than_k, step\n",
    "\n",
    "print(f\"Số bước tạo Hask Table: {len(list_n)}\")\n",
    "print(f\"Số k, List Random: ({k}, {list_n})\") \n",
    "print(list_less_than_k_hash(list_n, k))"
   ]
  },
  {
   "cell_type": "markdown",
   "metadata": {},
   "source": [
    "- 3.3 Sử dụng thuật toán Binary Rearch"
   ]
  },
  {
   "cell_type": "code",
   "execution_count": 38,
   "metadata": {},
   "outputs": [
    {
     "name": "stdout",
     "output_type": "stream",
     "text": [
      "Số bước để Sort List: 8\n",
      "Số k, List Random: (15, [2, 9, 0, 7, 4, 8, 3, 14])\n",
      "([0, 2, 3, 4, 7, 8, 9, 14], 1)\n"
     ]
    }
   ],
   "source": [
    "#FUNCTION_3\n",
    "def list_less_than_k(list_sorted, k_n):\n",
    "    less_than_k = []\n",
    "    step = 0\n",
    "\n",
    "    # Trường hợp k tồn tại trong List\n",
    "    if check_k:\n",
    "        less_than_k = list_sorted[:position_search_k]\n",
    "        step += 1\n",
    "        return less_than_k, step\n",
    "    \n",
    "    # Trường hợp k không tồn tại trong List\n",
    "    else:\n",
    "        if k_n > list_sorted[len(list_sorted) - 1]: # Xem k có lớn hơn phần tử lớn nhất trong List không\n",
    "            step += 1\n",
    "            less_than_k = list_sorted\n",
    "        else:\n",
    "            left = 0\n",
    "            right = len(list_sorted) - 1\n",
    "            while list_sorted[left] < k_n:\n",
    "                step += 1\n",
    "                mid = (left + right) // 2\n",
    "                if list_sorted[mid] < k_n:\n",
    "                    less_than_k += list_sorted[left:mid + 1]\n",
    "                    left = mid + 1\n",
    "                elif list_sorted[mid] > k_n:\n",
    "                    right = mid - 1\n",
    "                    if right < 0: break\n",
    "            step += 1\n",
    "    return less_than_k, step\n",
    "\n",
    "list_new_sorted = sorted(list_n)\n",
    "\n",
    "print(f\"Số bước để Sort List: {len(list_n)}\")\n",
    "print(f\"Số k, List Random: ({k}, {list_n})\") \n",
    "print(list_less_than_k(list_new_sorted, k))    "
   ]
  },
  {
   "cell_type": "markdown",
   "metadata": {},
   "source": [
    "<hr>"
   ]
  },
  {
   "cell_type": "markdown",
   "metadata": {},
   "source": [
    "## **<center>Discussion</center>**"
   ]
  },
  {
   "cell_type": "markdown",
   "metadata": {},
   "source": [
    "#### **1. Discuss the method used for generating random numbers and its impact on the results. Can we generate the same random values multiple times? If so, please add that implementation.** ####\n",
    "     \n",
    "**1.1 Phương pháp được sử dụng để tạo số ngẫu nhiên: (Thật ra là Giả Ngẫu Nhiên)**  \n",
    "  \n",
    "Bên trong hàm *generate_random_list(n)* sử dụng 2 hàm được xây dựng sẵn của thư viện Random để tạo số ngẫu nhiên:\n",
    "- Hàm *random.sample(sequence, k)*:\n",
    "    -> Hàm này tạo một List gồm $k$ phần tử, mà mỗi phần tử là số nguyên dương được chọn ngẫu nhiên duy nhất trong $sequence$ (*Mở rộng: Nếu sequence không phải là list mà là hàm range, tuple, set. Thì chương trình sẽ chuyển nó thành một list, rồi chọn các phần tử từ list đó*). Ngẫu nhiên duy nhất có nghĩa là khi số này được chọn rồi thì nó sẽ không có khả năng xuất hiện trong lần chọn tiếp theo.\n",
    "  \n",
    "- Hàm *random.randint(a, b)*\n",
    "    - Hàm này tạo ra một số ngẫu nhiên nằm trong khoảng $a, b$ và bao gồm cả $a, b$\n",
    "  \n",
    "**1.2 Tác động của phương pháp được sử dụng để tạo số ngẫu nhiên lên kết quả:** \n",
    "- *Random.sample(sequence, k)* và *random.randint(a, b)* chọn ra các con số trong khoảng cho trước với **xác xuất là như nhau**. Do đó, kết quả mà hàm *generate_random_list(n)* tạo ra không bị lệch về một giá trị cụ thể nào.  \n",
    "  \n",
    "- *Random.sample(sequence, k)* tạo ra một List gồm các **phần tử ngẫu nhiên duy nhất**, có nghĩa là không chứa bất kì số nào bị trùng lặp. Điều này tác động đến kết quả của các hàm *Tìm kiếm k*, nếu tồn tại $k$ trong List thì $k$ chỉ xuất hiện tối đa một lần.\n",
    "   \n",
    "- Tác động trực tiếp đến kích thước của List được trả về bởi các hàm *Tìm kiếm các phần tử nhỏ hơn k*. Do kích thước của List được trả về phụ thuộc vào giá trị của $k$ và List $2n$ phần tử ban đầu. Do đó **không thể biết chính xác kích thước** của List gồm các phần tử nhỏ hơn $k$.  \n",
    "    - Ex: Nếu $k$ có giá trị nhỏ, thì List các phần tử nhỏ hơn $k$ có kích thước bé hoặc có thể rỗng. Ngược lại, nếu $k$ có giá trị lớn thì List các phần tử nhỏ hơn $k$ có kích thước lớn và có thể bằng với List 2n ban đầu.  \n",
    "  \n",
    "- Đối với việc tìm kiếm tuyến tính. Tác động đến **số bước (Step)** để trả về kết quả. Do hàm hàm này sử dụng vòng lặp For, duyệt qua tất cả các phần tử của List 2n ban đầu để tìm $k$, do đó trong trường hợp xấu nhất là $k$ nằm ở cuối danh sách hoặc $k$ không tồn tại thì vòng lặp for phải duyệt qua $2n$ lần.  \n",
    "  \n",
    "**1.3 Chúng ta hoàn toàn có thể tạo ra các giá trị ngẫu nhiên giống nhau nhiều lần:**\n",
    "- Bằng cách thêm *random.seed(Giá_trị_seed)* vào *hàm generate_random_list(n)*\n",
    "  \n",
    "- Giải thích thêm về seed: Seed có thể xem là một Input đầu vào của một chuỗi các thuật toán để tạo ra Output là một số ngẫu nhiên. Do đó với cùng một seed ta có thể tạo ra một chuỗi các số \"ngẫu nhiên\" giống nhau   \n",
    "  \n",
    "<center>Theo dõi code bên dưới và xem Output tương ứng</center>\n"
   ]
  },
  {
   "cell_type": "code",
   "execution_count": 39,
   "metadata": {},
   "outputs": [
    {
     "name": "stdout",
     "output_type": "stream",
     "text": [
      "([3, 4, 6, 1, 2, 7], 7)\n"
     ]
    }
   ],
   "source": [
    "import random\n",
    "def generate_random_list(n):\n",
    "    random.seed(3) #Ở đây cho giá trị của seed = 3\n",
    "    list_random = random.sample(range(0,2**n), 2*n)\n",
    "    k_random = random.randint(0,2**n - 1)\n",
    "    return list_random, k_random\n",
    "\n",
    "print(generate_random_list(3))"
   ]
  },
  {
   "cell_type": "markdown",
   "metadata": {},
   "source": [
    "#### **2. Analyze the average number of trials needed to solve Task 1.a and 1.b. Try to find the optimal solution with the smallest number of steps required. Discuss the complexities involved in the operations.** #### \n",
    "  \n",
    "**2.1 Phân tích số bước trung bình mà chương trình cần thực hiện để giải quyết vấn đề 1.a và 1.b và bàn về độ phức tạp của thuật toán:**  \n",
    "  \n",
    "**Vấn đề 1.a: *Tìm kiếm k***\n",
    "- FUNCTION_2.1    \n",
    "    - Trường hợp $k$ chắc chắn có trong List: Số bước trung bình: &asymp; $n$ (cụ thể là $n$ + $1/2$) \n",
    "      \n",
    "    - Trường hợp $k$ chắc chắn không có trong List: Số bước trung bình luôn là: $2n$   \n",
    "      \n",
    "        ->Vì vậy, số bước trung bình mà chương trình cần thực hiện để trả về kết quả là: &asymp; $1.5n$\n",
    "          \n",
    "    - Hàm trên thực hiện tìm kiếm tuyến tính (Duyệt qua từng phần tử) có Độ phức tạp thuật toán là O<sub>(n)</sub>  \n",
    "  \n",
    "- FUNCTION_2.2.1 và FUNCTION_2.2.2: \n",
    "    - Việc tạo Hask Table sẽ tốn $2n$ bước (Vì phải duyệt qua tất cả các phần tử List Random)  \n",
    "\n",
    "    - Việc tìm kiếm $k$ trong list luôn luôn là 1 bước duy nhất  \n",
    "\n",
    "    - Độ phức tạp thuật toán của việc tạo Hash Table: O<sub>(n)</sub>  \n",
    "    \n",
    "    - Độ phức tạp thuật toán của việc tìm kiếm $k$: O<sub>(1)</sub>\n",
    "\n",
    "- FUNCTION_2.3\n",
    "    - Việc Sort List sẽ tốn $2n$ bước (Vì phải duyệt qua tất cả các phần tử List Random)\n",
    "\n",
    "    - Số bước tìm kiếm $k$ trong list giảm đi rất nhiều\n",
    "\n",
    "    - Độ phức tạp thuật toán của việc Sort List: O<sub>(n)</sub>  \n",
    "    \n",
    "    - Độ phức tạp thuật toán của việc tìm kiếm $k$: O<sub>(logn)</sub>\n",
    "  \n",
    "**Vấn đề 1.b: *Tìm kiếm các phần tử nhỏ hơn k***\n",
    "  \n",
    "- FUNCTION_3.1\n",
    "  \n",
    "    - Hàm này luôn luôn duyệt qua tất cả phần tử của List  \n",
    "        \n",
    "        -> Vậy nên số bước trung bình mà chương trình cần thực hiện để trả về kết quả luôn là $2n$ bước\n",
    "        \n",
    "    - Hàm trên cũng sử dụng thuật toán *tìm kiếm tuyến tính*. Vậy nên độ phức tạp thuật toán trong trường hợp này luôn là $0$<sun>(n)</sub>, với $n$ là số phần tử của List (Cụ thể là $2n$). \n",
    "\n",
    "- FUNCTION_3.2.1 và FUNCTION_3.2.2\n",
    "\n",
    "    - Việc tạo Hask Table sẽ tốn $2n$ bước\n",
    "\n",
    "    - Việc tìm kiếm các phần tử nhỏ hơn $k$ trong list cần trung bình $2n$ bước (Do duyệt qua các phần tử của Hask Table)  \n",
    "\n",
    "    - Độ phức tạp thuật toán của việc tạo Hash Table và tìm kiếm các phần tử nhỏ hơn $k$ trong List: O<sub>(n)</sub>  \n",
    "\n",
    "- FUNCTION_3\n",
    "\n",
    "    - Việc Sort List sẽ tốn $2n$ bước. Độ phức tạp để Sort List là O<sub>(n)</sub>\n",
    "\n",
    "    - Nếu $k$ tồn tại trong List thì chỉ tốn 1 bước. Độ phức tạp là O<sub>(1)</sub>\n",
    "\n",
    "    - Nếu $k$ không tồn tại trong List thì tốn rất ít bước để tìm được kết quả. Độ phức tạp là O<sub>(logn)</sub>\n",
    "  \n",
    "**2.2 Đề xuất giải pháp tối ưu với số bước thực hiện là nhỏ nhất để giải quyết bài toán trên (Sử dụng Hask Table cho tìm kiếm k và Binary Rearch cho việc tìm các phần tử nhỏ hơn k)**  "
   ]
  },
  {
   "cell_type": "code",
   "execution_count": 42,
   "metadata": {},
   "outputs": [
    {
     "name": "stdout",
     "output_type": "stream",
     "text": [
      "Số bước để tạo Hash Table: 8\n",
      "(False, 1)\n"
     ]
    }
   ],
   "source": [
    "# Tìm kiếm k\n",
    "def hash_table(list_m):\n",
    "    hash_table = {value: index for index, value in enumerate(list_m)}\n",
    "    return hash_table\n",
    "\n",
    "def hash_search(list_m, k_m):\n",
    "    step = 0\n",
    "    hash_tab = hash_table(list_m)\n",
    "    if k_m in hash_tab:\n",
    "        step += 1\n",
    "        return True, step\n",
    "    else:\n",
    "        step += 1\n",
    "    return False, step\n",
    "\n",
    "print(f\"Số bước để tạo Hash Table: {len(list_n)}\")\n",
    "print(hash_search(list_n, k))"
   ]
  },
  {
   "cell_type": "code",
   "execution_count": 41,
   "metadata": {},
   "outputs": [
    {
     "name": "stdout",
     "output_type": "stream",
     "text": [
      "Số bước để Sort List: 8\n",
      "Số k, List Random: (15, [2, 9, 0, 7, 4, 8, 3, 14])\n",
      "([0, 2, 3, 4, 7, 8, 9, 14], 1)\n"
     ]
    }
   ],
   "source": [
    "# Tìm kiếm các phần tử nhỏ hơn k\n",
    "def binary_rearch(list_m, k_m):\n",
    "    left = 0\n",
    "    right = len(list_m) - 1\n",
    "    step = 0\n",
    "    while left <= right:\n",
    "        mid = (left + right) // 2\n",
    "        step += 1\n",
    "        #Xét tại 3 vị trí trong List để tìm k\n",
    "        if list_m[mid] == k_m:\n",
    "            return True, step, mid\n",
    "        elif list_m[left] == k_m:\n",
    "            return True, step, left\n",
    "        elif list_m[right] == k_m:\n",
    "            return True, step, right\n",
    "        #Giảm khoảng cần tìm\n",
    "        elif list_m[mid] < k_m:\n",
    "            left = mid + 1\n",
    "            right -= 1\n",
    "        else:\n",
    "            right = mid - 1\n",
    "            left += 1\n",
    "    return False, step, mid\n",
    "\n",
    "def list_less_than_k(list_sorted, k_n):\n",
    "    less_than_k = []\n",
    "    step = 0\n",
    "    if check_k:\n",
    "        less_than_k = list_sorted[:position_search_k]\n",
    "        step += 1\n",
    "        return less_than_k, step\n",
    "    else:\n",
    "        if k_n > list_sorted[len(list_sorted) - 1]:\n",
    "            step += 1\n",
    "            less_than_k = list_sorted\n",
    "        else:\n",
    "            left = 0\n",
    "            right = len(list_sorted) - 1\n",
    "            while list_sorted[left] < k_n:\n",
    "                step += 1\n",
    "                mid = (left + right) // 2\n",
    "                if list_sorted[mid] < k_n:\n",
    "                    less_than_k += list_sorted[left:mid + 1]\n",
    "                    left = mid + 1\n",
    "                elif list_sorted[mid] > k_n:\n",
    "                    right = mid - 1\n",
    "                    if right < 0: break\n",
    "            step += 1\n",
    "    return less_than_k, step\n",
    "\n",
    "\n",
    "list_new_sorted = sorted(list_n)\n",
    "check_k, step_search_k, position_search_k = binary_rearch(list_new_sorted, k)\n",
    "\n",
    "print(f\"Số bước để Sort List: {len(list_n)}\")\n",
    "print(f\"Số k, List Random: ({k}, {list_n})\") \n",
    "print(list_less_than_k(list_new_sorted, k))   "
   ]
  },
  {
   "cell_type": "markdown",
   "metadata": {},
   "source": [
    "**2.3 Bàn về hiệu quả đạt được và các vấn đề còn sót lại**\n",
    "- Giải pháp được đề xuất ở trên mà em cho là tối ưu thật sự có hiệu quả khi giảm số bước mà chương trình cần thực hiện để trả về kết quả một cách đáng kể\n",
    "    \n",
    "    - Đối với Tìm kiếm k, từ $2n$ bước (đối với tuyến tính) về lại chỉ còn 1 bước.\n",
    "\n",
    "    - Đối với Tìm kiếm các phần tử nhỏ hơn k, từ luôn luôn là $2n$ bước giảm còn số bước nhỏ đáng kể\n",
    "\n",
    "- Nhưng rõ ràng vẫn tồn động lại một vấn đề đó là: \n",
    "  \n",
    "    - Độ phức tạp của cả chương trình sẽ tăng lên đáng kể khi cả việc tạo Hash Table hay Sort List đều có độ phức tạp là O<sub>(n)</sub>   \n"
   ]
  },
  {
   "cell_type": "markdown",
   "metadata": {},
   "source": [
    "#### **3. Which problems in Task 1 can be improved using quantum computing? Why?**  ####\n",
    "Có một số vấn đề ở TASK_1 mà máy tính lượng tử có cải thiện hiểu quả và chỉ có máy tính lượng tử có thể làm được nhưng máy tính cổ điển thì không:\n",
    "\n",
    "- Tạo ra một số thật **sự ngẫu nhiên**!  \n",
    "    - Bản chất của máy tính cổ điển là xác định. Nó nhận vào các input, qua một số các thuật toán tạo số ngẫu nhiên, rồi cho ra các con số trông có vẻ ngẫu nhiên nhưng thực chất chúng không ngẫu nhiên. Các số đó được gọi là \"giả ngẫu nhiên\". Vậy nên nếu chúng ta biết Seed ban đầu và biết được cách mà thuật toán hoạt động để tạo số ngẫu nhiên, chúng ta hoàn toàn có thể dự đoán trước được chúng.  \n",
    "      \n",
    "    - Máy tính lượng tử hoạt động theo xác suất. Qubit trong trạng thái chồng chất (superposition) khi đo sẽ cho kết quả ngẫu nhiên thật sự, không thể dự đoán trước.\n",
    "\n",
    "- Cải thiện hiệu suất, *giảm thời gian thực thi* tìm kiếm rất đáng kể nhờ vào các thuật toán lượng tử như Thuật toán Grover và khả năng xử lý xử lý nhiều dữ liệu cùng một lúc."
   ]
  },
  {
   "cell_type": "markdown",
   "metadata": {},
   "source": [
    "<hr>"
   ]
  },
  {
   "cell_type": "markdown",
   "metadata": {},
   "source": [
    "## **<center>Tài liệu tham khảo</center>**"
   ]
  },
  {
   "cell_type": "markdown",
   "metadata": {},
   "source": [
    "[Tài liệu tham khảo về Python (Syntax, Loop, If..Else, Data Type, Function, Module,...)](https://www.w3schools.com/python/default.asp)  \n",
    "  \n",
    "[Tài liệu tham khảo về thuật toán Binary Search](https://www.youtube.com/watch?v=mQMpamkUgW8&list=PLoaAbmGPgTSNMAzkKBHkh2mLuBk54II5L&index=18)\n",
    "\n",
    "[Tài liệu tham khảo về Hash Table](https://www.youtube.com/watch?v=uKIFNzqX2a8&t=669s)\n",
    "\n",
    "[Tài liệu tham khảo về cách sử dụng Markdown](https://www.datacamp.com/tutorial/markdown-in-jupyter-notebook)"
   ]
  },
  {
   "cell_type": "markdown",
   "metadata": {},
   "source": [
    "**<center>-----Hết-----</center>**"
   ]
  }
 ],
 "metadata": {
  "kernelspec": {
   "display_name": ".venv",
   "language": "python",
   "name": "python3"
  },
  "language_info": {
   "codemirror_mode": {
    "name": "ipython",
    "version": 3
   },
   "file_extension": ".py",
   "mimetype": "text/x-python",
   "name": "python",
   "nbconvert_exporter": "python",
   "pygments_lexer": "ipython3",
   "version": "3.12.3"
  }
 },
 "nbformat": 4,
 "nbformat_minor": 2
}
