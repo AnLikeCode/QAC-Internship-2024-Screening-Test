{
 "cells": [
  {
   "cell_type": "markdown",
   "metadata": {},
   "source": [
    "# 🔥 Bonus_1: Propose a quantum solution for Task 1 and implement a quantum program using any quantum SDKs (such as Qiskit, Cirq, or Braket) to solve any parts of Task 1."
   ]
  },
  {
   "cell_type": "markdown",
   "metadata": {},
   "source": [
    "Đối với vấn đề ở TASK_1, Em đã trình bày một số ý tưởng để tìm câu trả lời cho bài toán. Tuy nhiên những con số 'Ngẫu nhiên' mà em tạo ra lại không thật sự ngẫu nhiên, mà chỉ là 'Giả ngẫu nhiên'. Tức là chúng được tạo ra bằng một số thuật toán, do đó nếu chúng ta biết Seed ban đầu và thuật toán tạo nên chúng, chúng ta hoàn toàn biết được kết quả.\n",
    "<hr>\n",
    "  \n",
    "**Vậy nên em đề xuất một giải pháp để giải quyết triệt để bài toán tạo số ngẫu nhiên trên bằng cách sử dụng máy tính lượng tử.**\n",
    "\n",
    "  \n",
    "**Ý tưởng chủ đạo** \n",
    "(Tham khảo ở bài báo khoa học: QFaaS: A serverless function-as-a-service framework for quantum computing): \n",
    "  \n",
    "- *Ứng dụng trạng trái Superposition của một Qubit và khi tiến hành measure Qubit ở trạng thái chồng chập lượng tử này sẽ khiến nó sụp đổ về một trong hai trạng thái cơ bản là 0 và 1 với xác xuất như nhau*. Dựa vào đó tạo thành dãy bit nhị phân rồi biên dịch thành số thập phân.  \n",
    "\n",
    "- Để làm được điều đó, em đã kết hợp lập trình cổ điển và lập trình lượng tử để giải quyết bài toán, với công việc được phân chia như sau:\n",
    "\n",
    "    - Lập trình lượng tử: Tạo mạch lượng tử, Chạy mô phỏng, Measure rồi trả về kết quả. (Quantum SDK: Qiskit 1.0.2)\n",
    "\n",
    "    - Lập trình cổ điển: Xử lý dữ dữ liệu trước và sau khi có được kết quả từ việc chạy mô phỏng lượng tử. Cụ thể: \n",
    "\n",
    "        - Tiền xử lý: Truyền tham số đầu vào cho hàm xử lý\n",
    "\n",
    "        - Hậu xử lý: Nhận kết quả từ việc chạy mô phỏng lưởng tử, dựa vào đó tạo thành dãy bit nhị phân, biên dịch thành số thập phân, sau đó tạo thành list các phần tử ngẫu nhiên và cả số k\n",
    "  \n",
    "**Thực hiện:**\n",
    "\n",
    "- Function_1: Tạo mạch lượng tử với 1 Qubit, Sử dụng cổng Hadamard để tạo trạng thái chồng chập lượng tử, Measure, Chạy mạch trên trình mô phòng, Thu kết quả.\n",
    "\n",
    "- Function_2: Dùng vòng lặp để tạo thành chuỗi bit từ kết quả thu thập được từ Function_1, sau đó biên dịch thành số thâp phân thỏa yêu cầu.\n",
    "\n",
    "- Function_3: Tạo List $2n$ phần tử ngẫu nhiên và số $k$\n",
    "\n",
    "    - Tạo list $2n$ phần tử random\n",
    "\n",
    "    - Chuyển đổi list trên thành set để loại bỏ các phần tử trùng lặp. Rồi sau đó chuyển lại thành list, lúc này có thể list sẽ không có đủ $2n$ phần tử \n",
    "\n",
    "    - Dùng vòng lặp để xem list đủ $2n$ phần tử hay chưa. Sau đó gọi Function_2 để tạo số ngẫu nhiên, check xem số mới tạo này đã tồn tại trong list chưa. Nếu chưa thì thêm vào list. Cho đến khi list đủ $2n$ phần tử\n",
    "\n",
    "**Kết quả thu được và hạn chế**\n",
    "  \n",
    "- Các phần tử của List là những số thật sự ngẫu nhiên về mặt lý thuyết nếu các hàm lượng tử được khỏi chạy trên phần cứng lượng tử thật sự\n",
    "\n",
    "- Do chương trình sau chỉ chạy trên bộ mô phỏng được xây dụng sẵn (Qiskit Aer) nên những con số kết quả thu được cũng chưa chắc thật sự ngẫu nhiên!. Hơn nữa vẫn chưa giải quyết được tạo nên một List $2n$ phần tử ngẫu nhiên duy nhất.\n",
    "\n",
    "- Sử dụng vòng lặp và set có thể sẽ ảnh hưởng đến hiệu suất khi n lớn (Một số lần chạy thử: n = 20 chạy mất 3.8s, n = 30 mất 8.5s)\n"
   ]
  },
  {
   "cell_type": "code",
   "execution_count": 57,
   "metadata": {},
   "outputs": [
    {
     "name": "stdout",
     "output_type": "stream",
     "text": [
      "([787, 153, 286, 291, 939, 941, 177, 53, 955, 192, 844, 725, 470, 342, 226, 359, 618, 875, 253, 794], 471)\n"
     ]
    }
   ],
   "source": [
    "from qiskit import QuantumCircuit, transpile\n",
    "from qiskit_aer import AerSimulator\n",
    "\n",
    "# Function_1\n",
    "def quantum_process():\n",
    "    circ = QuantumCircuit(1)\n",
    "    circ.h(0)\n",
    "    circ.measure_all()\n",
    "    simulator = AerSimulator()\n",
    "    circ = transpile(circ, simulator)\n",
    "    result = simulator.run(circ, shots=1, memory=True).result()\n",
    "    memory = result.get_memory(circ)\n",
    "    return int(memory[0]) \n",
    "\n",
    "# Function_2\n",
    "def classical_process(n):\n",
    "    number_random = 0\n",
    "    for i in range(n):\n",
    "        bit = quantum_process()\n",
    "        number_random += bit * (2 ** i)\n",
    "    return number_random #Trả về một sô thâp phân ngẫu nhiên\n",
    "\n",
    "# Function_3 \n",
    "def create_random_list_and_k(m):\n",
    "    list_random = [classical_process(m) for i in range(2 * m)]\n",
    "    list_random = list(set(list_random))\n",
    "    while len(list_random) < 2 * m:\n",
    "        number = classical_process(m)\n",
    "        if number not in list_random:\n",
    "            list_random.append(number)\n",
    "    k_number_random = classical_process(m)\n",
    "    return list_random, k_number_random\n",
    "\n",
    "n = 10 #Truyền tham số n tại đây\n",
    "print(create_random_list_and_k(n))"
   ]
  },
  {
   "cell_type": "code",
   "execution_count": 49,
   "metadata": {},
   "outputs": [
    {
     "data": {
      "text/plain": [
       "'1.0.2'"
      ]
     },
     "execution_count": 49,
     "metadata": {},
     "output_type": "execute_result"
    }
   ],
   "source": [
    "import qiskit\n",
    "\n",
    "qiskit.__version__"
   ]
  }
 ],
 "metadata": {
  "kernelspec": {
   "display_name": "Python 3",
   "language": "python",
   "name": "python3"
  },
  "language_info": {
   "codemirror_mode": {
    "name": "ipython",
    "version": 3
   },
   "file_extension": ".py",
   "mimetype": "text/x-python",
   "name": "python",
   "nbconvert_exporter": "python",
   "pygments_lexer": "ipython3",
   "version": "3.12.3"
  }
 },
 "nbformat": 4,
 "nbformat_minor": 2
}
