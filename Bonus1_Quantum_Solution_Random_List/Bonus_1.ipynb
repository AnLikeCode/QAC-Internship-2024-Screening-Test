{
 "cells": [
  {
   "cell_type": "markdown",
   "metadata": {},
   "source": [
    "# 🔥 Bonus_1: Propose a quantum solution for Task 1 and implement a quantum program using any quantum SDKs (such as Qiskit, Cirq, or Braket) to solve any parts of Task 1."
   ]
  },
  {
   "cell_type": "code",
   "execution_count": 123,
   "metadata": {},
   "outputs": [
    {
     "data": {
      "text/plain": [
       "'1.0.2'"
      ]
     },
     "execution_count": 123,
     "metadata": {},
     "output_type": "execute_result"
    }
   ],
   "source": [
    "import qiskit\n",
    "\n",
    "qiskit.__version__"
   ]
  },
  {
   "cell_type": "markdown",
   "metadata": {},
   "source": [
    "### Generate a list of $2n$ unique random positive integers, and $k$ number random positive integers\n",
    "Đối với vấn đề ở TASK_1, Em đã trình bày một số ý tưởng để tìm câu trả lời cho bài toán. Tuy nhiên những con số 'Ngẫu nhiên' mà em tạo ra lại không thật sự ngẫu nhiên, mà chỉ là 'Giả ngẫu nhiên'. Tức là chúng được tạo ra bằng một số thuật toán, do đó nếu chúng ta biết Seed ban đầu và thuật toán tạo nên chúng, chúng ta hoàn toàn biết trước được kết quả.\n",
    "<hr>\n",
    "  \n",
    "**Vậy nên em đề xuất một giải pháp để giải quyết triệt để bài toán tạo số ngẫu nhiên trên bằng cách sử dụng các tính chất của cơ học lượng tử lượng tử.**\n",
    "\n",
    "  \n",
    "**Ý tưởng chủ đạo** \n",
    "(Tham khảo ở bài báo khoa học: QFaaS: A serverless function-as-a-service framework for quantum computing): \n",
    "  \n",
    "- *Ứng dụng trạng trái Superposition của Qubit, khi tiến hành measure Qubit ở trạng thái chồng chập lượng tử này sẽ khiến nó sụp đổ về các trạng thái cơ bản với xác xuất như nhau*.\n",
    "\n",
    "- Để làm được điều đó, em đã kết hợp lập trình cổ điển và lập trình lượng tử để giải quyết bài toán, với công việc được phân chia như sau:\n",
    "\n",
    "    - Lập trình lượng tử: Tạo mạch lượng tử, Chạy mô phỏng, Measure rồi trả về kết quả. (Quantum SDK: Qiskit 1.0.2)\n",
    "\n",
    "    - Lập trình cổ điển: Xử lý dữ dữ liệu trước và sau \n",
    "  \n",
    "**Kết quả thu được và hạn chế**\n",
    "  \n",
    "- Các phần tử của List là những số thật sự ngẫu nhiên về mặt lý thuyết nếu như các hàm lượng tử được khỏi chạy trên phần cứng lượng tử thật sự\n",
    "\n",
    "- Do chương trình sau chỉ chạy trên bộ mô phỏng được xây dụng sẵn (Qiskit Aer) nên những con số kết quả thu được cũng chưa chắc thật sự ngẫu nhiên! \n",
    "  \n",
    "- Sử dụng set để loại các phần tử trùng lặp nhau, từ đó làm cho các số trong List được sắp xếp theo thứ tự tăng dần.\n"
   ]
  },
  {
   "cell_type": "code",
   "execution_count": 126,
   "metadata": {},
   "outputs": [
    {
     "name": "stdout",
     "output_type": "stream",
     "text": [
      "([1, 2, 4, 8, 11, 13, 14, 3], 3)\n"
     ]
    }
   ],
   "source": [
    "from qiskit import QuantumCircuit, transpile\n",
    "from qiskit_aer import AerSimulator\n",
    "\n",
    "#Quantum Function: Tạo số ngẫu nhiên\n",
    "def quantum_process(num_qubits):\n",
    "    circ = QuantumCircuit(num_qubits)\n",
    "    circ.h(range(num_qubits)) \n",
    "    circ.measure_all()\n",
    "    simulator = AerSimulator()\n",
    "    circ = transpile(circ, simulator)\n",
    "    result = simulator.run(circ, shots=1, memory=True).result()\n",
    "    memory = result.get_memory(circ)\n",
    "    return int(memory[0], 2)\n",
    "\n",
    "# # Classical Function: Tạo List 2n và số k ngẫu nhiên\n",
    "def classical_process(m):\n",
    "    list_random = [quantum_process(m) for i in range(2 * m)]\n",
    "    list_random = list(set(list_random))\n",
    "    while len(list_random) < 2 * m:\n",
    "        number = quantum_process(m)\n",
    "        if number not in list_random:\n",
    "            list_random.append(number)\n",
    "    k_number_random = quantum_process(m)\n",
    "    return list_random, k_number_random\n",
    "\n",
    "n = 4\n",
    "print(classical_process(n))"
   ]
  }
 ],
 "metadata": {
  "kernelspec": {
   "display_name": "Python 3",
   "language": "python",
   "name": "python3"
  },
  "language_info": {
   "codemirror_mode": {
    "name": "ipython",
    "version": 3
   },
   "file_extension": ".py",
   "mimetype": "text/x-python",
   "name": "python",
   "nbconvert_exporter": "python",
   "pygments_lexer": "ipython3",
   "version": "3.12.3"
  }
 },
 "nbformat": 4,
 "nbformat_minor": 2
}
